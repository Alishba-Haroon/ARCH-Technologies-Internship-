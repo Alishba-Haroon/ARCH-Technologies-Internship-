{
 "cells": [
  {
   "cell_type": "markdown",
   "id": "349a0284",
   "metadata": {},
   "source": [
    "# Introduction to Python Programming"
   ]
  },
  {
   "cell_type": "code",
   "execution_count": 1,
   "id": "2341d76c",
   "metadata": {},
   "outputs": [
    {
     "name": "stdout",
     "output_type": "stream",
     "text": [
      "Hello, World! Welcome to Python.\n"
     ]
    }
   ],
   "source": [
    "# Print Statement\n",
    "print(\"Hello, World! Welcome to Python.\")\n"
   ]
  },
  {
   "cell_type": "code",
   "execution_count": 4,
   "id": "70dfde74",
   "metadata": {},
   "outputs": [
    {
     "name": "stdout",
     "output_type": "stream",
     "text": [
      "Name: Alishba\n",
      "Age: 22\n",
      "Height: 5.4\n",
      "Student: True\n"
     ]
    }
   ],
   "source": [
    "# Variables and Data Types\n",
    "name = \"Alishba\"\n",
    "age = 22\n",
    "height = 5.4\n",
    "is_student = True\n",
    "\n",
    "print(\"Name:\", name)\n",
    "print(\"Age:\", age)\n",
    "print(\"Height:\", height)\n",
    "print(\"Student:\", is_student)"
   ]
  },
  {
   "cell_type": "code",
   "execution_count": 5,
   "id": "05a9600c",
   "metadata": {},
   "outputs": [
    {
     "name": "stdout",
     "output_type": "stream",
     "text": [
      "Addition: 13\n",
      "Subtraction: 7\n",
      "Multiplication: 30\n",
      "Division: 3.3333333333333335\n",
      "Modulus: 1\n",
      "Floor Division: 3\n",
      "Power: 1000\n"
     ]
    }
   ],
   "source": [
    "# Operators and Expressions\n",
    "a = 10\n",
    "b = 3\n",
    "\n",
    "print(\"Addition:\", a + b)\n",
    "print(\"Subtraction:\", a - b)\n",
    "print(\"Multiplication:\", a * b)\n",
    "print(\"Division:\", a / b)\n",
    "print(\"Modulus:\", a % b)\n",
    "print(\"Floor Division:\", a // b)\n",
    "print(\"Power:\", a ** b)"
   ]
  },
  {
   "cell_type": "code",
   "execution_count": 6,
   "id": "eaacb467",
   "metadata": {},
   "outputs": [
    {
     "name": "stdout",
     "output_type": "stream",
     "text": [
      "You are an adult.\n",
      "Counting using for loop:\n",
      "0\n",
      "1\n",
      "2\n",
      "3\n",
      "4\n",
      "Counting using while loop:\n",
      "0\n",
      "1\n",
      "2\n",
      "3\n",
      "4\n"
     ]
    }
   ],
   "source": [
    "# Conditional Statements\n",
    "if age >= 18:\n",
    "    print(\"You are an adult.\")\n",
    "else:\n",
    "    print(\"You are a minor.\")\n",
    "\n",
    "# Loops - For loop\n",
    "print(\"Counting using for loop:\")\n",
    "for i in range(5):\n",
    "    print(i)\n",
    "\n",
    "# Loops - While loop\n",
    "print(\"Counting using while loop:\")\n",
    "x = 0\n",
    "while x < 5:\n",
    "    print(x)\n",
    "    x += 1"
   ]
  },
  {
   "cell_type": "code",
   "execution_count": 7,
   "id": "b36c54a1",
   "metadata": {},
   "outputs": [
    {
     "name": "stdout",
     "output_type": "stream",
     "text": [
      "Hello Alishba ! Welcome to Python programming.\n"
     ]
    }
   ],
   "source": [
    "# Functions\n",
    "def greet_user(username):\n",
    "    print(\"Hello\", username, \"! Welcome to Python programming.\")\n",
    "\n",
    "greet_user(name)\n"
   ]
  },
  {
   "cell_type": "code",
   "execution_count": 8,
   "id": "8fbf032e",
   "metadata": {},
   "outputs": [
    {
     "name": "stdout",
     "output_type": "stream",
     "text": [
      "Sum: 18\n",
      "Difference: 12\n",
      "Product: 45\n",
      "Quotient: 5.0\n"
     ]
    }
   ],
   "source": [
    "# Bonus: Simple Calculator using Functions\n",
    "def calculator(x, y):\n",
    "    print(\"Sum:\", x + y)\n",
    "    print(\"Difference:\", x - y)\n",
    "    print(\"Product:\", x * y)\n",
    "    print(\"Quotient:\", x / y)\n",
    "\n",
    "calculator(15, 3)"
   ]
  }
 ],
 "metadata": {
  "kernelspec": {
   "display_name": "Python 3",
   "language": "python",
   "name": "python3"
  },
  "language_info": {
   "codemirror_mode": {
    "name": "ipython",
    "version": 3
   },
   "file_extension": ".py",
   "mimetype": "text/x-python",
   "name": "python",
   "nbconvert_exporter": "python",
   "pygments_lexer": "ipython3",
   "version": "3.12.2"
  }
 },
 "nbformat": 4,
 "nbformat_minor": 5
}
